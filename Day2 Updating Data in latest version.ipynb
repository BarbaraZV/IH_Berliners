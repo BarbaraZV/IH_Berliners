{
 "cells": [
  {
   "cell_type": "code",
   "execution_count": 1,
   "id": "a12f2f76",
   "metadata": {},
   "outputs": [],
   "source": [
    "import numpy as np\n",
    "import pandas as pd\n",
    "import matplotlib.pyplot as plt\n",
    "%matplotlib inline\n",
    "import seaborn as sns\n",
    "from sklearn.preprocessing import StandardScaler\n",
    "from sklearn.preprocessing import quantile_transform\n",
    "from sklearn.preprocessing import minmax_scale\n",
    "from sklearn.preprocessing import OneHotEncoder  ##. better to use dummy from pandas \n",
    "from sklearn.preprocessing import PowerTransformer\n",
    "from scipy.stats import boxcox\n",
    "from sklearn.linear_model import LinearRegression\n",
    "from sklearn.model_selection import train_test_split\n",
    "import statsmodels.api as sm\n",
    "from scipy.stats import boxcox\n",
    "from sklearn.model_selection import train_test_split\n",
    "from sklearn.metrics import r2_score\n",
    "from sklearn.metrics import mean_squared_error as mse\n",
    "from sklearn.metrics import mean_absolute_error as mae\n",
    "pd.options.display.max_rows = 50\n",
    "import qgrid\n",
    "import glob\n",
    "import math\n",
    "import os"
   ]
  },
  {
   "cell_type": "code",
   "execution_count": null,
   "id": "ee0814e2",
   "metadata": {},
   "outputs": [],
   "source": [
    "def load_csv_dataframes(path):\n",
    "    '''Loads all csv files in a folder and stores them in a list of dataframes.\n",
    "    Returns list of dataframes.\n",
    "    [attributes]\n",
    "    path: path of folder with csvs inside\n",
    "    '''\n",
    "    all_files = glob.glob(path + \"/*.csv\")\n",
    "    dataframes_list=[]\n",
    "    file_count=len(all_files)\n",
    "    for i in range(file_count):\n",
    "        temp_df = pd.read_csv(all_files[i])\n",
    "        dataframes_list.append(temp_df)\n",
    "\n",
    "    return dataframes_list\n",
    "def col_lowercase(df):\n",
    "    '''Changes all dataframe columns to lowercase for merging.\n",
    "    Returns updated dataframe\n",
    "    [attributes]\n",
    "    df: dataframe to use lower on'''\n",
    "    df_temp = [i.lower() for i in df.columns]\n",
    "    return df_temp\n",
    "def string_lowercase(df):\n",
    "    '''Makes all string values in dataframe lowercase.\n",
    "    Returns updated dataframe.\n",
    "    [attributes]\n",
    "    df: dataframe to apply lower on'''\n",
    "    df=df.applymap(lambda x:x.lower() if type(x) == str else x)\n",
    "    return df"
   ]
  }
 ],
 "metadata": {
  "kernelspec": {
   "display_name": "Python 3 (ipykernel)",
   "language": "python",
   "name": "python3"
  },
  "language_info": {
   "codemirror_mode": {
    "name": "ipython",
    "version": 3
   },
   "file_extension": ".py",
   "mimetype": "text/x-python",
   "name": "python",
   "nbconvert_exporter": "python",
   "pygments_lexer": "ipython3",
   "version": "3.9.12"
  },
  "toc": {
   "base_numbering": 1,
   "nav_menu": {},
   "number_sections": true,
   "sideBar": true,
   "skip_h1_title": false,
   "title_cell": "Table of Contents",
   "title_sidebar": "Contents",
   "toc_cell": false,
   "toc_position": {},
   "toc_section_display": true,
   "toc_window_display": false
  },
  "varInspector": {
   "cols": {
    "lenName": 16,
    "lenType": 16,
    "lenVar": 40
   },
   "kernels_config": {
    "python": {
     "delete_cmd_postfix": "",
     "delete_cmd_prefix": "del ",
     "library": "var_list.py",
     "varRefreshCmd": "print(var_dic_list())"
    },
    "r": {
     "delete_cmd_postfix": ") ",
     "delete_cmd_prefix": "rm(",
     "library": "var_list.r",
     "varRefreshCmd": "cat(var_dic_list()) "
    }
   },
   "types_to_exclude": [
    "module",
    "function",
    "builtin_function_or_method",
    "instance",
    "_Feature"
   ],
   "window_display": false
  }
 },
 "nbformat": 4,
 "nbformat_minor": 5
}
