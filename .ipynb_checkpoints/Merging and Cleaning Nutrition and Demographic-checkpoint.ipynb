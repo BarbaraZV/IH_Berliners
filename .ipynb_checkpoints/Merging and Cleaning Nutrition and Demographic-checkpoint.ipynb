{
 "cells": [
  {
   "cell_type": "markdown",
   "id": "c69dc712",
   "metadata": {},
   "source": [
    "# Prep imports and libraries"
   ]
  },
  {
   "cell_type": "code",
   "execution_count": 180,
   "id": "2afa4302",
   "metadata": {},
   "outputs": [],
   "source": [
    "import numpy as np\n",
    "import pandas as pd\n",
    "import matplotlib.pyplot as plt\n",
    "%matplotlib inline\n",
    "import seaborn as sns\n",
    "from sklearn.preprocessing import StandardScaler\n",
    "from sklearn.preprocessing import quantile_transform\n",
    "from sklearn.preprocessing import minmax_scale\n",
    "from sklearn.preprocessing import OneHotEncoder  ##. better to use dummy from pandas \n",
    "from sklearn.preprocessing import PowerTransformer\n",
    "from scipy.stats import boxcox\n",
    "from sklearn.linear_model import LinearRegression\n",
    "from sklearn.model_selection import train_test_split\n",
    "import statsmodels.api as sm\n",
    "from scipy.stats import boxcox\n",
    "from sklearn.model_selection import train_test_split\n",
    "from sklearn.metrics import r2_score\n",
    "from sklearn.metrics import mean_squared_error as mse\n",
    "from sklearn.metrics import mean_absolute_error as mae\n",
    "pd.options.display.max_rows = 50\n",
    "import qgrid\n",
    "import glob\n",
    "import math\n",
    "import os"
   ]
  },
  {
   "cell_type": "markdown",
   "id": "1d77114d",
   "metadata": {},
   "source": [
    "# Load demographic and nutrition info"
   ]
  },
  {
   "cell_type": "code",
   "execution_count": 181,
   "id": "5f187ffe",
   "metadata": {},
   "outputs": [],
   "source": [
    "def load_csv_dataframes(path):\n",
    "    '''Loads all csv files in a folder and stores them in a list of dataframes.\n",
    "    Returns list of dataframes.\n",
    "    [attributes]\n",
    "    path: path of folder with csvs inside\n",
    "    '''\n",
    "    all_files = glob.glob(path + \"/*.csv\")\n",
    "    dataframes_list=[]\n",
    "    file_count=len(all_files)\n",
    "    for i in range(file_count):\n",
    "        temp_df = pd.read_csv(all_files[i])\n",
    "        dataframes_list.append(temp_df)\n",
    "\n",
    "    return dataframes_list\n",
    "\n",
    "df_list=load_csv_dataframes(r'C:\\Users\\MichaelTaylo_c9zoof3\\Documents\\GitHub\\IH_Berliners\\Data\\Files to merge')"
   ]
  },
  {
   "cell_type": "markdown",
   "id": "c99d2088",
   "metadata": {},
   "source": [
    "# Make all country names lowercase"
   ]
  },
  {
   "cell_type": "code",
   "execution_count": 182,
   "id": "4d454547",
   "metadata": {},
   "outputs": [],
   "source": [
    "def string_lowercase(df):\n",
    "    '''Makes all string values in dataframe lowercase.\n",
    "    Returns updated dataframe.\n",
    "    [attributes]\n",
    "    df: dataframe to apply lower on'''\n",
    "    df=df.applymap(lambda x:x.lower() if type(x) == str else x)\n",
    "    return df\n",
    "\n",
    "for i in df_list:\n",
    "    i.update(string_lowercase(i))"
   ]
  },
  {
   "cell_type": "markdown",
   "id": "d4a3eae5",
   "metadata": {},
   "source": [
    "# Merge files"
   ]
  },
  {
   "cell_type": "code",
   "execution_count": 183,
   "id": "1bc834be",
   "metadata": {},
   "outputs": [],
   "source": [
    "df=pd.merge(df_list[0], df_list[1], on='country')\n"
   ]
  },
  {
   "cell_type": "code",
   "execution_count": 184,
   "id": "ecd8c0bc",
   "metadata": {},
   "outputs": [
    {
     "data": {
      "application/vnd.jupyter.widget-view+json": {
       "model_id": "084f25d3e220444999233ab70c5f4aa8",
       "version_major": 2,
       "version_minor": 0
      },
      "text/plain": [
       "QgridWidget(grid_options={'fullWidthRows': True, 'syncColumnCellResize': True, 'forceFitColumns': False, 'defa…"
      ]
     },
     "metadata": {},
     "output_type": "display_data"
    }
   ],
   "source": [
    "qgrid.show_grid(df,grid_options={'forceFitColumns': False})"
   ]
  },
  {
   "cell_type": "markdown",
   "id": "bb727f18",
   "metadata": {},
   "source": [
    "# Create mortality rate as dependent value"
   ]
  },
  {
   "cell_type": "code",
   "execution_count": 185,
   "id": "d57ef89f",
   "metadata": {},
   "outputs": [
    {
     "data": {
      "text/html": [
       "<div>\n",
       "<style scoped>\n",
       "    .dataframe tbody tr th:only-of-type {\n",
       "        vertical-align: middle;\n",
       "    }\n",
       "\n",
       "    .dataframe tbody tr th {\n",
       "        vertical-align: top;\n",
       "    }\n",
       "\n",
       "    .dataframe thead th {\n",
       "        text-align: right;\n",
       "    }\n",
       "</style>\n",
       "<table border=\"1\" class=\"dataframe\">\n",
       "  <thead>\n",
       "    <tr style=\"text-align: right;\">\n",
       "      <th></th>\n",
       "      <th>mortality_rate_covid</th>\n",
       "    </tr>\n",
       "  </thead>\n",
       "  <tbody>\n",
       "    <tr>\n",
       "      <th>0</th>\n",
       "      <td>4.352069</td>\n",
       "    </tr>\n",
       "    <tr>\n",
       "      <th>1</th>\n",
       "      <td>1.717095</td>\n",
       "    </tr>\n",
       "    <tr>\n",
       "      <th>2</th>\n",
       "      <td>2.677922</td>\n",
       "    </tr>\n",
       "    <tr>\n",
       "      <th>3</th>\n",
       "      <td>2.367660</td>\n",
       "    </tr>\n",
       "    <tr>\n",
       "      <th>4</th>\n",
       "      <td>2.430556</td>\n",
       "    </tr>\n",
       "    <tr>\n",
       "      <th>...</th>\n",
       "      <td>...</td>\n",
       "    </tr>\n",
       "    <tr>\n",
       "      <th>143</th>\n",
       "      <td>0.785628</td>\n",
       "    </tr>\n",
       "    <tr>\n",
       "      <th>144</th>\n",
       "      <td>0.000000</td>\n",
       "    </tr>\n",
       "    <tr>\n",
       "      <th>145</th>\n",
       "      <td>1.763224</td>\n",
       "    </tr>\n",
       "    <tr>\n",
       "      <th>146</th>\n",
       "      <td>1.365849</td>\n",
       "    </tr>\n",
       "    <tr>\n",
       "      <th>147</th>\n",
       "      <td>3.815931</td>\n",
       "    </tr>\n",
       "  </tbody>\n",
       "</table>\n",
       "<p>148 rows × 1 columns</p>\n",
       "</div>"
      ],
      "text/plain": [
       "     mortality_rate_covid\n",
       "0                4.352069\n",
       "1                1.717095\n",
       "2                2.677922\n",
       "3                2.367660\n",
       "4                2.430556\n",
       "..                    ...\n",
       "143              0.785628\n",
       "144              0.000000\n",
       "145              1.763224\n",
       "146              1.365849\n",
       "147              3.815931\n",
       "\n",
       "[148 rows x 1 columns]"
      ]
     },
     "execution_count": 185,
     "metadata": {},
     "output_type": "execute_result"
    }
   ],
   "source": [
    "df['mortality_rate_covid']=(df['deaths']/df['confirmed'])*100\n",
    "df[['mortality_rate_covid']]"
   ]
  },
  {
   "cell_type": "markdown",
   "id": "d679eecc",
   "metadata": {},
   "source": [
    "# Check dataset as is"
   ]
  },
  {
   "cell_type": "code",
   "execution_count": 186,
   "id": "f61f7e18",
   "metadata": {
    "scrolled": true
   },
   "outputs": [
    {
     "data": {
      "application/vnd.jupyter.widget-view+json": {
       "model_id": "7325b0e9812a433e9f7040fde49aea07",
       "version_major": 2,
       "version_minor": 0
      },
      "text/plain": [
       "QgridWidget(grid_options={'fullWidthRows': True, 'syncColumnCellResize': True, 'forceFitColumns': False, 'defa…"
      ]
     },
     "metadata": {},
     "output_type": "display_data"
    }
   ],
   "source": [
    "qgrid.show_grid(df,grid_options={'forceFitColumns': False})"
   ]
  },
  {
   "cell_type": "markdown",
   "id": "ecec92cb",
   "metadata": {},
   "source": [
    "# Gather count of NANs by column"
   ]
  },
  {
   "cell_type": "code",
   "execution_count": null,
   "id": "8e05932a",
   "metadata": {},
   "outputs": [],
   "source": []
  },
  {
   "cell_type": "code",
   "execution_count": 187,
   "id": "5979a43b",
   "metadata": {},
   "outputs": [
    {
     "data": {
      "application/vnd.jupyter.widget-view+json": {
       "model_id": "58183317061244fda62beb20b872ff03",
       "version_major": 2,
       "version_minor": 0
      },
      "text/plain": [
       "QgridWidget(grid_options={'fullWidthRows': True, 'syncColumnCellResize': True, 'forceFitColumns': False, 'defa…"
      ]
     },
     "metadata": {},
     "output_type": "display_data"
    }
   ],
   "source": [
    "count_of_na=df.isna().sum()\n",
    "qgrid.show_grid(count_of_na,grid_options={'forceFitColumns': False})\n"
   ]
  },
  {
   "cell_type": "markdown",
   "id": "e63323b3",
   "metadata": {},
   "source": [
    "## Get a list of all columns with more than 10 NANs and drop them from dataset"
   ]
  },
  {
   "cell_type": "code",
   "execution_count": 188,
   "id": "172b648b",
   "metadata": {},
   "outputs": [
    {
     "data": {
      "text/plain": [
       "26"
      ]
     },
     "execution_count": 188,
     "metadata": {},
     "output_type": "execute_result"
    }
   ],
   "source": [
    "large_na=count_of_na[count_of_na>10]\n",
    "len(large_na)"
   ]
  },
  {
   "cell_type": "code",
   "execution_count": 189,
   "id": "de6fd0c0",
   "metadata": {
    "scrolled": true
   },
   "outputs": [],
   "source": [
    "for i in large_na.index:\n",
    "    df.drop(columns=i,inplace=True)"
   ]
  },
  {
   "cell_type": "markdown",
   "id": "70383baa",
   "metadata": {},
   "source": [
    "## Output a file at this stage"
   ]
  },
  {
   "cell_type": "code",
   "execution_count": 190,
   "id": "a3dfa7a9",
   "metadata": {},
   "outputs": [],
   "source": [
    "output_path=r'C:\\Users\\MichaelTaylo_c9zoof3\\Documents\\GitHub\\IH_Berliners\\Data\\Dropped columns\\combined_data_without_dropped_columns.csv'\n",
    "df.to_csv(output_path, index=False)"
   ]
  },
  {
   "cell_type": "markdown",
   "id": "a9b4aad4",
   "metadata": {},
   "source": [
    "## Check for columns with few NANs and export it as a file to clean manually"
   ]
  },
  {
   "cell_type": "code",
   "execution_count": 191,
   "id": "b0ff8ba2",
   "metadata": {},
   "outputs": [],
   "source": [
    "count_of_na=df.isna().sum()\n",
    "small_na=count_of_na[count_of_na>5]\n",
    "df_nas=df[small_na.index]"
   ]
  },
  {
   "cell_type": "code",
   "execution_count": 192,
   "id": "4464a07f",
   "metadata": {},
   "outputs": [
    {
     "name": "stderr",
     "output_type": "stream",
     "text": [
      "C:\\Users\\MichaelTaylo_c9zoof3\\AppData\\Local\\Temp\\ipykernel_8240\\965910400.py:1: SettingWithCopyWarning: \n",
      "A value is trying to be set on a copy of a slice from a DataFrame.\n",
      "Try using .loc[row_indexer,col_indexer] = value instead\n",
      "\n",
      "See the caveats in the documentation: https://pandas.pydata.org/pandas-docs/stable/user_guide/indexing.html#returning-a-view-versus-a-copy\n",
      "  df_nas['country']=df['country']\n"
     ]
    },
    {
     "data": {
      "text/html": [
       "<div>\n",
       "<style scoped>\n",
       "    .dataframe tbody tr th:only-of-type {\n",
       "        vertical-align: middle;\n",
       "    }\n",
       "\n",
       "    .dataframe tbody tr th {\n",
       "        vertical-align: top;\n",
       "    }\n",
       "\n",
       "    .dataframe thead th {\n",
       "        text-align: right;\n",
       "    }\n",
       "</style>\n",
       "<table border=\"1\" class=\"dataframe\">\n",
       "  <thead>\n",
       "    <tr style=\"text-align: right;\">\n",
       "      <th></th>\n",
       "      <th>gni per capita, atlas method (current us$)</th>\n",
       "      <th>maternal leave benefits (% of wages paid in covered period)</th>\n",
       "      <th>number of weeks of maternity leave</th>\n",
       "      <th>people practicing open defecation (% of population)</th>\n",
       "      <th>people practicing open defecation, rural (% of rural population)</th>\n",
       "      <th>people practicing open defecation, urban (% of urban population)</th>\n",
       "      <th>active</th>\n",
       "      <th>country</th>\n",
       "    </tr>\n",
       "  </thead>\n",
       "  <tbody>\n",
       "    <tr>\n",
       "      <th>0</th>\n",
       "      <td>630.0</td>\n",
       "      <td>100.0</td>\n",
       "      <td>90.0</td>\n",
       "      <td>12.7</td>\n",
       "      <td>17.4</td>\n",
       "      <td>0.0</td>\n",
       "      <td>0.012574</td>\n",
       "      <td>afghanistan</td>\n",
       "    </tr>\n",
       "    <tr>\n",
       "      <th>1</th>\n",
       "      <td>4290.0</td>\n",
       "      <td>65.0</td>\n",
       "      <td>365.0</td>\n",
       "      <td>0.0</td>\n",
       "      <td>0.0</td>\n",
       "      <td>0.0</td>\n",
       "      <td>1.123714</td>\n",
       "      <td>albania</td>\n",
       "    </tr>\n",
       "    <tr>\n",
       "      <th>2</th>\n",
       "      <td>4870.0</td>\n",
       "      <td>100.0</td>\n",
       "      <td>98.0</td>\n",
       "      <td>0.8</td>\n",
       "      <td>2.3</td>\n",
       "      <td>0.2</td>\n",
       "      <td>0.070767</td>\n",
       "      <td>algeria</td>\n",
       "    </tr>\n",
       "    <tr>\n",
       "      <th>3</th>\n",
       "      <td>4180.0</td>\n",
       "      <td>100.0</td>\n",
       "      <td>90.0</td>\n",
       "      <td>30.3</td>\n",
       "      <td>53.8</td>\n",
       "      <td>0.5</td>\n",
       "      <td>0.003419</td>\n",
       "      <td>angola</td>\n",
       "    </tr>\n",
       "    <tr>\n",
       "      <th>4</th>\n",
       "      <td>13390.0</td>\n",
       "      <td>78.0</td>\n",
       "      <td>91.0</td>\n",
       "      <td>NaN</td>\n",
       "      <td>NaN</td>\n",
       "      <td>NaN</td>\n",
       "      <td>0.095918</td>\n",
       "      <td>antigua and barbuda</td>\n",
       "    </tr>\n",
       "    <tr>\n",
       "      <th>...</th>\n",
       "      <td>...</td>\n",
       "      <td>...</td>\n",
       "      <td>...</td>\n",
       "      <td>...</td>\n",
       "      <td>...</td>\n",
       "      <td>...</td>\n",
       "      <td>...</td>\n",
       "      <td>...</td>\n",
       "    </tr>\n",
       "    <tr>\n",
       "      <th>143</th>\n",
       "      <td>2150.0</td>\n",
       "      <td>100.0</td>\n",
       "      <td>126.0</td>\n",
       "      <td>0.0</td>\n",
       "      <td>0.0</td>\n",
       "      <td>0.0</td>\n",
       "      <td>0.002733</td>\n",
       "      <td>uzbekistan</td>\n",
       "    </tr>\n",
       "    <tr>\n",
       "      <th>144</th>\n",
       "      <td>NaN</td>\n",
       "      <td>66.0</td>\n",
       "      <td>84.0</td>\n",
       "      <td>1.9</td>\n",
       "      <td>2.2</td>\n",
       "      <td>1.3</td>\n",
       "      <td>0.000000</td>\n",
       "      <td>vanuatu</td>\n",
       "    </tr>\n",
       "    <tr>\n",
       "      <th>145</th>\n",
       "      <td>1980.0</td>\n",
       "      <td>100.0</td>\n",
       "      <td>180.0</td>\n",
       "      <td>0.7</td>\n",
       "      <td>1.1</td>\n",
       "      <td>0.0</td>\n",
       "      <td>0.000501</td>\n",
       "      <td>vietnam</td>\n",
       "    </tr>\n",
       "    <tr>\n",
       "      <th>146</th>\n",
       "      <td>1500.0</td>\n",
       "      <td>100.0</td>\n",
       "      <td>84.0</td>\n",
       "      <td>13.7</td>\n",
       "      <td>22.3</td>\n",
       "      <td>1.3</td>\n",
       "      <td>0.039045</td>\n",
       "      <td>zambia</td>\n",
       "    </tr>\n",
       "    <tr>\n",
       "      <th>147</th>\n",
       "      <td>850.0</td>\n",
       "      <td>100.0</td>\n",
       "      <td>98.0</td>\n",
       "      <td>27.6</td>\n",
       "      <td>40.1</td>\n",
       "      <td>1.5</td>\n",
       "      <td>0.032214</td>\n",
       "      <td>zimbabwe</td>\n",
       "    </tr>\n",
       "  </tbody>\n",
       "</table>\n",
       "<p>148 rows × 8 columns</p>\n",
       "</div>"
      ],
      "text/plain": [
       "     gni per capita, atlas method (current us$)  \\\n",
       "0                                         630.0   \n",
       "1                                        4290.0   \n",
       "2                                        4870.0   \n",
       "3                                        4180.0   \n",
       "4                                       13390.0   \n",
       "..                                          ...   \n",
       "143                                      2150.0   \n",
       "144                                         NaN   \n",
       "145                                      1980.0   \n",
       "146                                      1500.0   \n",
       "147                                       850.0   \n",
       "\n",
       "     maternal leave benefits (% of wages paid in covered period)  \\\n",
       "0                                                100.0             \n",
       "1                                                 65.0             \n",
       "2                                                100.0             \n",
       "3                                                100.0             \n",
       "4                                                 78.0             \n",
       "..                                                 ...             \n",
       "143                                              100.0             \n",
       "144                                               66.0             \n",
       "145                                              100.0             \n",
       "146                                              100.0             \n",
       "147                                              100.0             \n",
       "\n",
       "     number of weeks of maternity leave  \\\n",
       "0                                  90.0   \n",
       "1                                 365.0   \n",
       "2                                  98.0   \n",
       "3                                  90.0   \n",
       "4                                  91.0   \n",
       "..                                  ...   \n",
       "143                               126.0   \n",
       "144                                84.0   \n",
       "145                               180.0   \n",
       "146                                84.0   \n",
       "147                                98.0   \n",
       "\n",
       "     people practicing open defecation (% of population)  \\\n",
       "0                                                 12.7     \n",
       "1                                                  0.0     \n",
       "2                                                  0.8     \n",
       "3                                                 30.3     \n",
       "4                                                  NaN     \n",
       "..                                                 ...     \n",
       "143                                                0.0     \n",
       "144                                                1.9     \n",
       "145                                                0.7     \n",
       "146                                               13.7     \n",
       "147                                               27.6     \n",
       "\n",
       "     people practicing open defecation, rural (% of rural population)  \\\n",
       "0                                                 17.4                  \n",
       "1                                                  0.0                  \n",
       "2                                                  2.3                  \n",
       "3                                                 53.8                  \n",
       "4                                                  NaN                  \n",
       "..                                                 ...                  \n",
       "143                                                0.0                  \n",
       "144                                                2.2                  \n",
       "145                                                1.1                  \n",
       "146                                               22.3                  \n",
       "147                                               40.1                  \n",
       "\n",
       "     people practicing open defecation, urban (% of urban population)  \\\n",
       "0                                                  0.0                  \n",
       "1                                                  0.0                  \n",
       "2                                                  0.2                  \n",
       "3                                                  0.5                  \n",
       "4                                                  NaN                  \n",
       "..                                                 ...                  \n",
       "143                                                0.0                  \n",
       "144                                                1.3                  \n",
       "145                                                0.0                  \n",
       "146                                                1.3                  \n",
       "147                                                1.5                  \n",
       "\n",
       "       active              country  \n",
       "0    0.012574          afghanistan  \n",
       "1    1.123714              albania  \n",
       "2    0.070767              algeria  \n",
       "3    0.003419               angola  \n",
       "4    0.095918  antigua and barbuda  \n",
       "..        ...                  ...  \n",
       "143  0.002733           uzbekistan  \n",
       "144  0.000000              vanuatu  \n",
       "145  0.000501              vietnam  \n",
       "146  0.039045               zambia  \n",
       "147  0.032214             zimbabwe  \n",
       "\n",
       "[148 rows x 8 columns]"
      ]
     },
     "execution_count": 192,
     "metadata": {},
     "output_type": "execute_result"
    }
   ],
   "source": [
    "df_nas['country']=df['country']\n",
    "df_nas"
   ]
  },
  {
   "cell_type": "code",
   "execution_count": 193,
   "id": "568eb8d2",
   "metadata": {},
   "outputs": [],
   "source": [
    "output_path=r'C:\\Users\\MichaelTaylo_c9zoof3\\Documents\\GitHub\\IH_Berliners\\Data\\few_nans_to_manually_fix.csv'\n",
    "df_nas.to_csv(output_path, index=False)"
   ]
  },
  {
   "cell_type": "markdown",
   "id": "00b3e499",
   "metadata": {},
   "source": [
    "### Make copy of df to ensure nothing goes wrong in merging data back in"
   ]
  },
  {
   "cell_type": "code",
   "execution_count": 194,
   "id": "1a485dd0",
   "metadata": {},
   "outputs": [],
   "source": [
    "df_latest=df.copy()"
   ]
  },
  {
   "cell_type": "code",
   "execution_count": 195,
   "id": "06ff15ee",
   "metadata": {},
   "outputs": [],
   "source": [
    "df_no_nan=pd.read_csv(r\"C:\\Users\\MichaelTaylo_c9zoof3\\Documents\\GitHub\\personal\\People Analytics\\Data\\Final\\few_nans_to_manually_fix_done.csv\")"
   ]
  },
  {
   "cell_type": "code",
   "execution_count": 196,
   "id": "7176e00a",
   "metadata": {},
   "outputs": [],
   "source": [
    "df_latest.update(df_no_nan,overwrite=False)"
   ]
  },
  {
   "cell_type": "code",
   "execution_count": 197,
   "id": "fc2d1bf9",
   "metadata": {},
   "outputs": [
    {
     "data": {
      "text/plain": [
       "country                                               0\n",
       "age dependency ratio (% of working-age population)    1\n",
       "age dependency ratio, old                             1\n",
       "age dependency ratio, young                           1\n",
       "age population, age 0, female, interpolated           1\n",
       "                                                     ..\n",
       "protein_vegetal products                              0\n",
       "protein_vegetable oils                                0\n",
       "protein_vegetables                                    0\n",
       "protein_miscellaneous                                 0\n",
       "mortality_rate_covid                                  0\n",
       "Length: 255, dtype: int64"
      ]
     },
     "execution_count": 197,
     "metadata": {},
     "output_type": "execute_result"
    }
   ],
   "source": [
    "df_latest.isna().sum()"
   ]
  },
  {
   "cell_type": "code",
   "execution_count": 204,
   "id": "e95a1572",
   "metadata": {},
   "outputs": [],
   "source": [
    "df=pd.read_csv(r\"C:\\Users\\MichaelTaylo_c9zoof3\\Documents\\GitHub\\IH_Berliners\\Data\\3. Full merge no nan\\full_merge_no_nan.csv\")"
   ]
  },
  {
   "cell_type": "code",
   "execution_count": 205,
   "id": "59d23bb2",
   "metadata": {},
   "outputs": [
    {
     "data": {
      "text/plain": [
       "country                                               0\n",
       "age dependency ratio (% of working-age population)    0\n",
       "age dependency ratio, old                             0\n",
       "age dependency ratio, young                           0\n",
       "age population, age 0, female, interpolated           0\n",
       "                                                     ..\n",
       "protein_vegetal products                              0\n",
       "protein_vegetable oils                                0\n",
       "protein_vegetables                                    0\n",
       "protein_miscellaneous                                 0\n",
       "mortality_rate_covid                                  0\n",
       "Length: 255, dtype: int64"
      ]
     },
     "execution_count": 205,
     "metadata": {},
     "output_type": "execute_result"
    }
   ],
   "source": [
    "df.isna().sum()"
   ]
  },
  {
   "cell_type": "code",
   "execution_count": null,
   "id": "583aad5e",
   "metadata": {},
   "outputs": [],
   "source": []
  }
 ],
 "metadata": {
  "kernelspec": {
   "display_name": "Python 3 (ipykernel)",
   "language": "python",
   "name": "python3"
  },
  "language_info": {
   "codemirror_mode": {
    "name": "ipython",
    "version": 3
   },
   "file_extension": ".py",
   "mimetype": "text/x-python",
   "name": "python",
   "nbconvert_exporter": "python",
   "pygments_lexer": "ipython3",
   "version": "3.9.12"
  },
  "toc": {
   "base_numbering": 1,
   "nav_menu": {},
   "number_sections": true,
   "sideBar": true,
   "skip_h1_title": false,
   "title_cell": "Table of Contents",
   "title_sidebar": "Contents",
   "toc_cell": false,
   "toc_position": {
    "height": "calc(100% - 180px)",
    "left": "10px",
    "top": "150px",
    "width": "341.484px"
   },
   "toc_section_display": true,
   "toc_window_display": true
  },
  "varInspector": {
   "cols": {
    "lenName": 16,
    "lenType": 16,
    "lenVar": 40
   },
   "kernels_config": {
    "python": {
     "delete_cmd_postfix": "",
     "delete_cmd_prefix": "del ",
     "library": "var_list.py",
     "varRefreshCmd": "print(var_dic_list())"
    },
    "r": {
     "delete_cmd_postfix": ") ",
     "delete_cmd_prefix": "rm(",
     "library": "var_list.r",
     "varRefreshCmd": "cat(var_dic_list()) "
    }
   },
   "types_to_exclude": [
    "module",
    "function",
    "builtin_function_or_method",
    "instance",
    "_Feature"
   ],
   "window_display": false
  }
 },
 "nbformat": 4,
 "nbformat_minor": 5
}
