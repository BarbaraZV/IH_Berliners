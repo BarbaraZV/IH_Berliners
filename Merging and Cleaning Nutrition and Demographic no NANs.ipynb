{
 "cells": [
  {
   "cell_type": "markdown",
   "id": "4a5f0048",
   "metadata": {},
   "source": [
    "# Prep imports and libraries"
   ]
  },
  {
   "cell_type": "code",
   "execution_count": 1,
   "id": "2afa4302",
   "metadata": {},
   "outputs": [],
   "source": [
    "import numpy as np\n",
    "import pandas as pd\n",
    "import matplotlib.pyplot as plt\n",
    "%matplotlib inline\n",
    "import seaborn as sns\n",
    "from sklearn.preprocessing import StandardScaler\n",
    "from sklearn.preprocessing import quantile_transform\n",
    "from sklearn.preprocessing import minmax_scale\n",
    "from sklearn.preprocessing import OneHotEncoder  ##. better to use dummy from pandas \n",
    "from sklearn.preprocessing import PowerTransformer\n",
    "from scipy.stats import boxcox\n",
    "from sklearn.linear_model import LinearRegression\n",
    "from sklearn.model_selection import train_test_split\n",
    "import statsmodels.api as sm\n",
    "from scipy.stats import boxcox\n",
    "from sklearn.model_selection import train_test_split\n",
    "from sklearn.metrics import r2_score\n",
    "from sklearn.metrics import mean_squared_error as mse\n",
    "from sklearn.metrics import mean_absolute_error as mae\n",
    "pd.options.display.max_rows = 50\n",
    "import qgrid\n",
    "import glob\n",
    "import math\n",
    "import os"
   ]
  },
  {
   "cell_type": "markdown",
   "id": "d6c59573",
   "metadata": {},
   "source": [
    "# Load demographic and nutrition info"
   ]
  },
  {
   "cell_type": "code",
   "execution_count": 181,
   "id": "5f187ffe",
   "metadata": {},
   "outputs": [],
   "source": [
    "def load_csv_dataframes(path):\n",
    "    '''Loads all csv files in a folder and stores them in a list of dataframes.\n",
    "    Returns list of dataframes.\n",
    "    [attributes]\n",
    "    path: path of folder with csvs inside\n",
    "    '''\n",
    "    all_files = glob.glob(path + \"/*.csv\")\n",
    "    dataframes_list=[]\n",
    "    file_count=len(all_files)\n",
    "    for i in range(file_count):\n",
    "        temp_df = pd.read_csv(all_files[i])\n",
    "        dataframes_list.append(temp_df)\n",
    "\n",
    "    return dataframes_list\n",
    "\n",
    "df_list=load_csv_dataframes(r'C:\\Users\\MichaelTaylo_c9zoof3\\Documents\\GitHub\\IH_Berliners\\Data\\Files to merge')"
   ]
  },
  {
   "cell_type": "markdown",
   "id": "063b9aab",
   "metadata": {},
   "source": [
    "# Make all country names lowercase"
   ]
  },
  {
   "cell_type": "code",
   "execution_count": 182,
   "id": "4d454547",
   "metadata": {},
   "outputs": [],
   "source": [
    "def string_lowercase(df):\n",
    "    '''Makes all string values in dataframe lowercase.\n",
    "    Returns updated dataframe.\n",
    "    [attributes]\n",
    "    df: dataframe to apply lower on'''\n",
    "    df=df.applymap(lambda x:x.lower() if type(x) == str else x)\n",
    "    return df\n",
    "\n",
    "for i in df_list:\n",
    "    i.update(string_lowercase(i))"
   ]
  },
  {
   "cell_type": "markdown",
   "id": "cfda7cac",
   "metadata": {},
   "source": [
    "# Merge files"
   ]
  },
  {
   "cell_type": "code",
   "execution_count": 183,
   "id": "1bc834be",
   "metadata": {},
   "outputs": [],
   "source": [
    "df=pd.merge(df_list[0], df_list[1], on='country')\n"
   ]
  },
  {
   "cell_type": "code",
   "execution_count": 184,
   "id": "ecd8c0bc",
   "metadata": {},
   "outputs": [
    {
     "data": {
      "application/vnd.jupyter.widget-view+json": {
       "model_id": "084f25d3e220444999233ab70c5f4aa8",
       "version_major": 2,
       "version_minor": 0
      },
      "text/plain": [
       "QgridWidget(grid_options={'fullWidthRows': True, 'syncColumnCellResize': True, 'forceFitColumns': False, 'defa…"
      ]
     },
     "metadata": {},
     "output_type": "display_data"
    }
   ],
   "source": [
    "qgrid.show_grid(df,grid_options={'forceFitColumns': False})"
   ]
  },
  {
   "cell_type": "markdown",
   "id": "b33e1d9e",
   "metadata": {},
   "source": [
    "# Create mortality rate as dependent value"
   ]
  },
  {
   "cell_type": "code",
   "execution_count": 185,
   "id": "d57ef89f",
   "metadata": {},
   "outputs": [
    {
     "data": {
      "text/html": [
       "<div>\n",
       "<style scoped>\n",
       "    .dataframe tbody tr th:only-of-type {\n",
       "        vertical-align: middle;\n",
       "    }\n",
       "\n",
       "    .dataframe tbody tr th {\n",
       "        vertical-align: top;\n",
       "    }\n",
       "\n",
       "    .dataframe thead th {\n",
       "        text-align: right;\n",
       "    }\n",
       "</style>\n",
       "<table border=\"1\" class=\"dataframe\">\n",
       "  <thead>\n",
       "    <tr style=\"text-align: right;\">\n",
       "      <th></th>\n",
       "      <th>mortality_rate_covid</th>\n",
       "    </tr>\n",
       "  </thead>\n",
       "  <tbody>\n",
       "    <tr>\n",
       "      <th>0</th>\n",
       "      <td>4.352069</td>\n",
       "    </tr>\n",
       "    <tr>\n",
       "      <th>1</th>\n",
       "      <td>1.717095</td>\n",
       "    </tr>\n",
       "    <tr>\n",
       "      <th>2</th>\n",
       "      <td>2.677922</td>\n",
       "    </tr>\n",
       "    <tr>\n",
       "      <th>3</th>\n",
       "      <td>2.367660</td>\n",
       "    </tr>\n",
       "    <tr>\n",
       "      <th>4</th>\n",
       "      <td>2.430556</td>\n",
       "    </tr>\n",
       "    <tr>\n",
       "      <th>...</th>\n",
       "      <td>...</td>\n",
       "    </tr>\n",
       "    <tr>\n",
       "      <th>143</th>\n",
       "      <td>0.785628</td>\n",
       "    </tr>\n",
       "    <tr>\n",
       "      <th>144</th>\n",
       "      <td>0.000000</td>\n",
       "    </tr>\n",
       "    <tr>\n",
       "      <th>145</th>\n",
       "      <td>1.763224</td>\n",
       "    </tr>\n",
       "    <tr>\n",
       "      <th>146</th>\n",
       "      <td>1.365849</td>\n",
       "    </tr>\n",
       "    <tr>\n",
       "      <th>147</th>\n",
       "      <td>3.815931</td>\n",
       "    </tr>\n",
       "  </tbody>\n",
       "</table>\n",
       "<p>148 rows × 1 columns</p>\n",
       "</div>"
      ],
      "text/plain": [
       "     mortality_rate_covid\n",
       "0                4.352069\n",
       "1                1.717095\n",
       "2                2.677922\n",
       "3                2.367660\n",
       "4                2.430556\n",
       "..                    ...\n",
       "143              0.785628\n",
       "144              0.000000\n",
       "145              1.763224\n",
       "146              1.365849\n",
       "147              3.815931\n",
       "\n",
       "[148 rows x 1 columns]"
      ]
     },
     "execution_count": 185,
     "metadata": {},
     "output_type": "execute_result"
    }
   ],
   "source": [
    "df['mortality_rate_covid']=(df['deaths']/df['confirmed'])*100\n",
    "df[['mortality_rate_covid']]"
   ]
  },
  {
   "cell_type": "markdown",
   "id": "ac5ffd0e",
   "metadata": {},
   "source": [
    "# Check dataset as is"
   ]
  },
  {
   "cell_type": "code",
   "execution_count": 186,
   "id": "f61f7e18",
   "metadata": {
    "scrolled": true
   },
   "outputs": [
    {
     "data": {
      "application/vnd.jupyter.widget-view+json": {
       "model_id": "7325b0e9812a433e9f7040fde49aea07",
       "version_major": 2,
       "version_minor": 0
      },
      "text/plain": [
       "QgridWidget(grid_options={'fullWidthRows': True, 'syncColumnCellResize': True, 'forceFitColumns': False, 'defa…"
      ]
     },
     "metadata": {},
     "output_type": "display_data"
    }
   ],
   "source": [
    "qgrid.show_grid(df,grid_options={'forceFitColumns': False})"
   ]
  },
  {
   "cell_type": "markdown",
   "id": "6556276f",
   "metadata": {},
   "source": [
    "# Gather count of NANs by column"
   ]
  },
  {
   "cell_type": "code",
   "execution_count": 2,
   "id": "2d542be7",
   "metadata": {},
   "outputs": [],
   "source": []
  },
  {
   "cell_type": "code",
   "execution_count": 3,
   "id": "5979a43b",
   "metadata": {},
   "outputs": [
    {
     "data": {
      "application/vnd.jupyter.widget-view+json": {
       "model_id": "b4577805d1e34d3ca689b93b4b771589",
       "version_major": 2,
       "version_minor": 0
      },
      "text/plain": [
       "QgridWidget(grid_options={'fullWidthRows': True, 'syncColumnCellResize': True, 'forceFitColumns': False, 'defa…"
      ]
     },
     "metadata": {},
     "output_type": "display_data"
    }
   ],
   "source": [
    "count_of_na=df.isna().sum()\n",
    "qgrid.show_grid(count_of_na,grid_options={'forceFitColumns': False})\n"
   ]
  },
  {
   "cell_type": "markdown",
   "id": "b9b44f1e",
   "metadata": {},
   "source": [
    "## Get a list of all columns with more than 10 NANs and drop them from dataset"
   ]
  },
  {
   "cell_type": "code",
   "execution_count": 7,
   "id": "172b648b",
   "metadata": {},
   "outputs": [
    {
     "data": {
      "text/plain": [
       "26"
      ]
     },
     "execution_count": 7,
     "metadata": {},
     "output_type": "execute_result"
    }
   ],
   "source": [
    "large_na=count_of_na[count_of_na>20]\n",
    "len(large_na)"
   ]
  },
  {
   "cell_type": "code",
   "execution_count": 8,
   "id": "de6fd0c0",
   "metadata": {
    "scrolled": true
   },
   "outputs": [],
   "source": [
    "for i in large_na.index:\n",
    "    df.drop(columns=i,inplace=True)"
   ]
  },
  {
   "cell_type": "markdown",
   "id": "677882e8",
   "metadata": {},
   "source": [
    "## Output a file at this stage"
   ]
  },
  {
   "cell_type": "code",
   "execution_count": 9,
   "id": "a3dfa7a9",
   "metadata": {},
   "outputs": [],
   "source": [
    "output_path=r'C:\\Users\\MichaelTaylo_c9zoof3\\Documents\\GitHub\\IH_Berliners\\Data\\2. After dropped columns\\combined_data_without_dropped_columns.csv'\n",
    "df.to_csv(output_path, index=False)"
   ]
  },
  {
   "cell_type": "markdown",
   "id": "53385fd2",
   "metadata": {},
   "source": [
    "## Check for columns with few NANs and export it as a file to clean manually"
   ]
  },
  {
   "cell_type": "code",
   "execution_count": 10,
   "id": "b0ff8ba2",
   "metadata": {},
   "outputs": [],
   "source": [
    "count_of_na=df.isna().sum()\n",
    "small_na=count_of_na[count_of_na>5]\n",
    "df_nas=df[small_na.index]"
   ]
  },
  {
   "cell_type": "code",
   "execution_count": 11,
   "id": "4464a07f",
   "metadata": {},
   "outputs": [
    {
     "name": "stderr",
     "output_type": "stream",
     "text": [
      "C:\\Users\\MichaelTaylo_c9zoof3\\AppData\\Local\\Temp\\ipykernel_8976\\965910400.py:1: SettingWithCopyWarning: \n",
      "A value is trying to be set on a copy of a slice from a DataFrame.\n",
      "Try using .loc[row_indexer,col_indexer] = value instead\n",
      "\n",
      "See the caveats in the documentation: https://pandas.pydata.org/pandas-docs/stable/user_guide/indexing.html#returning-a-view-versus-a-copy\n",
      "  df_nas['country']=df['country']\n"
     ]
    },
    {
     "data": {
      "text/html": [
       "<div>\n",
       "<style scoped>\n",
       "    .dataframe tbody tr th:only-of-type {\n",
       "        vertical-align: middle;\n",
       "    }\n",
       "\n",
       "    .dataframe tbody tr th {\n",
       "        vertical-align: top;\n",
       "    }\n",
       "\n",
       "    .dataframe thead th {\n",
       "        text-align: right;\n",
       "    }\n",
       "</style>\n",
       "<table border=\"1\" class=\"dataframe\">\n",
       "  <thead>\n",
       "    <tr style=\"text-align: right;\">\n",
       "      <th></th>\n",
       "      <th>gni per capita, atlas method (current us$)</th>\n",
       "      <th>immunization, hepb3 (% of one-year-old children)</th>\n",
       "      <th>improved sanitation facilities (% of population with access)</th>\n",
       "      <th>improved sanitation facilities, rural (% of rural population with access)</th>\n",
       "      <th>improved sanitation facilities, urban (% of urban population with access)</th>\n",
       "      <th>improved water source (% of population with access)</th>\n",
       "      <th>improved water source, rural (% of rural population with access)</th>\n",
       "      <th>maternal leave benefits (% of wages paid in covered period)</th>\n",
       "      <th>number of weeks of maternity leave</th>\n",
       "      <th>people practicing open defecation (% of population)</th>\n",
       "      <th>people practicing open defecation, rural (% of rural population)</th>\n",
       "      <th>people practicing open defecation, urban (% of urban population)</th>\n",
       "      <th>undernourished</th>\n",
       "      <th>country</th>\n",
       "    </tr>\n",
       "  </thead>\n",
       "  <tbody>\n",
       "    <tr>\n",
       "      <th>0</th>\n",
       "      <td>630.0</td>\n",
       "      <td>78.0</td>\n",
       "      <td>31.9</td>\n",
       "      <td>27.0</td>\n",
       "      <td>45.1</td>\n",
       "      <td>55.3</td>\n",
       "      <td>47.0</td>\n",
       "      <td>100.0</td>\n",
       "      <td>90.0</td>\n",
       "      <td>12.7</td>\n",
       "      <td>17.4</td>\n",
       "      <td>0.0</td>\n",
       "      <td>29.8</td>\n",
       "      <td>afghanistan</td>\n",
       "    </tr>\n",
       "    <tr>\n",
       "      <th>1</th>\n",
       "      <td>4290.0</td>\n",
       "      <td>98.0</td>\n",
       "      <td>93.2</td>\n",
       "      <td>90.2</td>\n",
       "      <td>95.5</td>\n",
       "      <td>95.1</td>\n",
       "      <td>95.2</td>\n",
       "      <td>65.0</td>\n",
       "      <td>365.0</td>\n",
       "      <td>0.0</td>\n",
       "      <td>0.0</td>\n",
       "      <td>0.0</td>\n",
       "      <td>6.2</td>\n",
       "      <td>albania</td>\n",
       "    </tr>\n",
       "    <tr>\n",
       "      <th>2</th>\n",
       "      <td>4870.0</td>\n",
       "      <td>95.0</td>\n",
       "      <td>87.6</td>\n",
       "      <td>82.2</td>\n",
       "      <td>89.8</td>\n",
       "      <td>83.6</td>\n",
       "      <td>81.8</td>\n",
       "      <td>100.0</td>\n",
       "      <td>98.0</td>\n",
       "      <td>0.8</td>\n",
       "      <td>2.3</td>\n",
       "      <td>0.2</td>\n",
       "      <td>3.9</td>\n",
       "      <td>algeria</td>\n",
       "    </tr>\n",
       "    <tr>\n",
       "      <th>3</th>\n",
       "      <td>4180.0</td>\n",
       "      <td>64.0</td>\n",
       "      <td>51.6</td>\n",
       "      <td>22.5</td>\n",
       "      <td>88.6</td>\n",
       "      <td>49.0</td>\n",
       "      <td>28.2</td>\n",
       "      <td>100.0</td>\n",
       "      <td>90.0</td>\n",
       "      <td>30.3</td>\n",
       "      <td>53.8</td>\n",
       "      <td>0.5</td>\n",
       "      <td>25.0</td>\n",
       "      <td>angola</td>\n",
       "    </tr>\n",
       "    <tr>\n",
       "      <th>4</th>\n",
       "      <td>13390.0</td>\n",
       "      <td>99.0</td>\n",
       "      <td>NaN</td>\n",
       "      <td>NaN</td>\n",
       "      <td>NaN</td>\n",
       "      <td>97.9</td>\n",
       "      <td>97.9</td>\n",
       "      <td>78.0</td>\n",
       "      <td>91.0</td>\n",
       "      <td>NaN</td>\n",
       "      <td>NaN</td>\n",
       "      <td>NaN</td>\n",
       "      <td>NaN</td>\n",
       "      <td>antigua and barbuda</td>\n",
       "    </tr>\n",
       "    <tr>\n",
       "      <th>...</th>\n",
       "      <td>...</td>\n",
       "      <td>...</td>\n",
       "      <td>...</td>\n",
       "      <td>...</td>\n",
       "      <td>...</td>\n",
       "      <td>...</td>\n",
       "      <td>...</td>\n",
       "      <td>...</td>\n",
       "      <td>...</td>\n",
       "      <td>...</td>\n",
       "      <td>...</td>\n",
       "      <td>...</td>\n",
       "      <td>...</td>\n",
       "      <td>...</td>\n",
       "    </tr>\n",
       "    <tr>\n",
       "      <th>158</th>\n",
       "      <td>NaN</td>\n",
       "      <td>87.0</td>\n",
       "      <td>94.4</td>\n",
       "      <td>69.9</td>\n",
       "      <td>97.5</td>\n",
       "      <td>93.1</td>\n",
       "      <td>77.9</td>\n",
       "      <td>100.0</td>\n",
       "      <td>182.0</td>\n",
       "      <td>5.4</td>\n",
       "      <td>28.6</td>\n",
       "      <td>2.5</td>\n",
       "      <td>21.2</td>\n",
       "      <td>venezuela</td>\n",
       "    </tr>\n",
       "    <tr>\n",
       "      <th>159</th>\n",
       "      <td>1980.0</td>\n",
       "      <td>97.0</td>\n",
       "      <td>78.0</td>\n",
       "      <td>69.7</td>\n",
       "      <td>94.4</td>\n",
       "      <td>97.6</td>\n",
       "      <td>96.9</td>\n",
       "      <td>100.0</td>\n",
       "      <td>180.0</td>\n",
       "      <td>0.7</td>\n",
       "      <td>1.1</td>\n",
       "      <td>0.0</td>\n",
       "      <td>9.3</td>\n",
       "      <td>vietnam</td>\n",
       "    </tr>\n",
       "    <tr>\n",
       "      <th>160</th>\n",
       "      <td>NaN</td>\n",
       "      <td>69.0</td>\n",
       "      <td>NaN</td>\n",
       "      <td>NaN</td>\n",
       "      <td>NaN</td>\n",
       "      <td>NaN</td>\n",
       "      <td>NaN</td>\n",
       "      <td>100.0</td>\n",
       "      <td>70.0</td>\n",
       "      <td>NaN</td>\n",
       "      <td>NaN</td>\n",
       "      <td>NaN</td>\n",
       "      <td>38.9</td>\n",
       "      <td>yemen</td>\n",
       "    </tr>\n",
       "    <tr>\n",
       "      <th>161</th>\n",
       "      <td>1500.0</td>\n",
       "      <td>90.0</td>\n",
       "      <td>43.9</td>\n",
       "      <td>35.7</td>\n",
       "      <td>55.6</td>\n",
       "      <td>65.4</td>\n",
       "      <td>51.3</td>\n",
       "      <td>100.0</td>\n",
       "      <td>84.0</td>\n",
       "      <td>13.7</td>\n",
       "      <td>22.3</td>\n",
       "      <td>1.3</td>\n",
       "      <td>46.7</td>\n",
       "      <td>zambia</td>\n",
       "    </tr>\n",
       "    <tr>\n",
       "      <th>162</th>\n",
       "      <td>850.0</td>\n",
       "      <td>87.0</td>\n",
       "      <td>36.8</td>\n",
       "      <td>30.8</td>\n",
       "      <td>49.3</td>\n",
       "      <td>76.9</td>\n",
       "      <td>67.3</td>\n",
       "      <td>100.0</td>\n",
       "      <td>98.0</td>\n",
       "      <td>27.6</td>\n",
       "      <td>40.1</td>\n",
       "      <td>1.5</td>\n",
       "      <td>51.3</td>\n",
       "      <td>zimbabwe</td>\n",
       "    </tr>\n",
       "  </tbody>\n",
       "</table>\n",
       "<p>163 rows × 14 columns</p>\n",
       "</div>"
      ],
      "text/plain": [
       "     gni per capita, atlas method (current us$)  \\\n",
       "0                                         630.0   \n",
       "1                                        4290.0   \n",
       "2                                        4870.0   \n",
       "3                                        4180.0   \n",
       "4                                       13390.0   \n",
       "..                                          ...   \n",
       "158                                         NaN   \n",
       "159                                      1980.0   \n",
       "160                                         NaN   \n",
       "161                                      1500.0   \n",
       "162                                       850.0   \n",
       "\n",
       "     immunization, hepb3 (% of one-year-old children)  \\\n",
       "0                                                78.0   \n",
       "1                                                98.0   \n",
       "2                                                95.0   \n",
       "3                                                64.0   \n",
       "4                                                99.0   \n",
       "..                                                ...   \n",
       "158                                              87.0   \n",
       "159                                              97.0   \n",
       "160                                              69.0   \n",
       "161                                              90.0   \n",
       "162                                              87.0   \n",
       "\n",
       "     improved sanitation facilities (% of population with access)  \\\n",
       "0                                                 31.9              \n",
       "1                                                 93.2              \n",
       "2                                                 87.6              \n",
       "3                                                 51.6              \n",
       "4                                                  NaN              \n",
       "..                                                 ...              \n",
       "158                                               94.4              \n",
       "159                                               78.0              \n",
       "160                                                NaN              \n",
       "161                                               43.9              \n",
       "162                                               36.8              \n",
       "\n",
       "     improved sanitation facilities, rural (% of rural population with access)  \\\n",
       "0                                                 27.0                           \n",
       "1                                                 90.2                           \n",
       "2                                                 82.2                           \n",
       "3                                                 22.5                           \n",
       "4                                                  NaN                           \n",
       "..                                                 ...                           \n",
       "158                                               69.9                           \n",
       "159                                               69.7                           \n",
       "160                                                NaN                           \n",
       "161                                               35.7                           \n",
       "162                                               30.8                           \n",
       "\n",
       "     improved sanitation facilities, urban (% of urban population with access)  \\\n",
       "0                                                 45.1                           \n",
       "1                                                 95.5                           \n",
       "2                                                 89.8                           \n",
       "3                                                 88.6                           \n",
       "4                                                  NaN                           \n",
       "..                                                 ...                           \n",
       "158                                               97.5                           \n",
       "159                                               94.4                           \n",
       "160                                                NaN                           \n",
       "161                                               55.6                           \n",
       "162                                               49.3                           \n",
       "\n",
       "     improved water source (% of population with access)  \\\n",
       "0                                                 55.3     \n",
       "1                                                 95.1     \n",
       "2                                                 83.6     \n",
       "3                                                 49.0     \n",
       "4                                                 97.9     \n",
       "..                                                 ...     \n",
       "158                                               93.1     \n",
       "159                                               97.6     \n",
       "160                                                NaN     \n",
       "161                                               65.4     \n",
       "162                                               76.9     \n",
       "\n",
       "     improved water source, rural (% of rural population with access)  \\\n",
       "0                                                 47.0                  \n",
       "1                                                 95.2                  \n",
       "2                                                 81.8                  \n",
       "3                                                 28.2                  \n",
       "4                                                 97.9                  \n",
       "..                                                 ...                  \n",
       "158                                               77.9                  \n",
       "159                                               96.9                  \n",
       "160                                                NaN                  \n",
       "161                                               51.3                  \n",
       "162                                               67.3                  \n",
       "\n",
       "     maternal leave benefits (% of wages paid in covered period)  \\\n",
       "0                                                100.0             \n",
       "1                                                 65.0             \n",
       "2                                                100.0             \n",
       "3                                                100.0             \n",
       "4                                                 78.0             \n",
       "..                                                 ...             \n",
       "158                                              100.0             \n",
       "159                                              100.0             \n",
       "160                                              100.0             \n",
       "161                                              100.0             \n",
       "162                                              100.0             \n",
       "\n",
       "     number of weeks of maternity leave  \\\n",
       "0                                  90.0   \n",
       "1                                 365.0   \n",
       "2                                  98.0   \n",
       "3                                  90.0   \n",
       "4                                  91.0   \n",
       "..                                  ...   \n",
       "158                               182.0   \n",
       "159                               180.0   \n",
       "160                                70.0   \n",
       "161                                84.0   \n",
       "162                                98.0   \n",
       "\n",
       "     people practicing open defecation (% of population)  \\\n",
       "0                                                 12.7     \n",
       "1                                                  0.0     \n",
       "2                                                  0.8     \n",
       "3                                                 30.3     \n",
       "4                                                  NaN     \n",
       "..                                                 ...     \n",
       "158                                                5.4     \n",
       "159                                                0.7     \n",
       "160                                                NaN     \n",
       "161                                               13.7     \n",
       "162                                               27.6     \n",
       "\n",
       "     people practicing open defecation, rural (% of rural population)  \\\n",
       "0                                                 17.4                  \n",
       "1                                                  0.0                  \n",
       "2                                                  2.3                  \n",
       "3                                                 53.8                  \n",
       "4                                                  NaN                  \n",
       "..                                                 ...                  \n",
       "158                                               28.6                  \n",
       "159                                                1.1                  \n",
       "160                                                NaN                  \n",
       "161                                               22.3                  \n",
       "162                                               40.1                  \n",
       "\n",
       "     people practicing open defecation, urban (% of urban population)  \\\n",
       "0                                                  0.0                  \n",
       "1                                                  0.0                  \n",
       "2                                                  0.2                  \n",
       "3                                                  0.5                  \n",
       "4                                                  NaN                  \n",
       "..                                                 ...                  \n",
       "158                                                2.5                  \n",
       "159                                                0.0                  \n",
       "160                                                NaN                  \n",
       "161                                                1.3                  \n",
       "162                                                1.5                  \n",
       "\n",
       "     undernourished              country  \n",
       "0              29.8          afghanistan  \n",
       "1               6.2              albania  \n",
       "2               3.9              algeria  \n",
       "3              25.0               angola  \n",
       "4               NaN  antigua and barbuda  \n",
       "..              ...                  ...  \n",
       "158            21.2            venezuela  \n",
       "159             9.3              vietnam  \n",
       "160            38.9                yemen  \n",
       "161            46.7               zambia  \n",
       "162            51.3             zimbabwe  \n",
       "\n",
       "[163 rows x 14 columns]"
      ]
     },
     "execution_count": 11,
     "metadata": {},
     "output_type": "execute_result"
    }
   ],
   "source": [
    "df_nas['country']=df['country']\n",
    "df_nas"
   ]
  },
  {
   "cell_type": "code",
   "execution_count": 12,
   "id": "da8a3c58",
   "metadata": {},
   "outputs": [],
   "source": [
    "output_path=r'C:\\Users\\MichaelTaylo_c9zoof3\\Documents\\GitHub\\IH_Berliners\\Data\\few_nans_to_manually_fix.csv'\n",
    "df_nas.to_csv(output_path, index=False)"
   ]
  },
  {
   "cell_type": "markdown",
   "id": "1effdd1c",
   "metadata": {},
   "source": [
    "### Make copy of df to ensure nothing goes wrong in merging data back in"
   ]
  },
  {
   "cell_type": "code",
   "execution_count": 13,
   "id": "e4fd3762",
   "metadata": {},
   "outputs": [],
   "source": [
    "df_latest=df.copy()"
   ]
  },
  {
   "cell_type": "code",
   "execution_count": 14,
   "id": "5d715c57",
   "metadata": {},
   "outputs": [],
   "source": [
    "df_no_nan=pd.read_csv(r\"C:\\Users\\MichaelTaylo_c9zoof3\\Documents\\GitHub\\personal\\People Analytics\\Data\\Final\\few_nans_to_manually_fix_done.csv\")"
   ]
  },
  {
   "cell_type": "code",
   "execution_count": 15,
   "id": "9706a3f9",
   "metadata": {},
   "outputs": [],
   "source": [
    "df_latest.update(df_no_nan,overwrite=False)"
   ]
  },
  {
   "cell_type": "code",
   "execution_count": 204,
   "id": "60bc0b8e",
   "metadata": {},
   "outputs": [],
   "source": [
    "df_latest=to_csv(r\"C:\\Users\\MichaelTaylo_c9zoof3\\Documents\\GitHub\\IH_Berliners\\Data\\3. Full merge no nan\\full_merge_no_nan.csv\")"
   ]
  },
  {
   "cell_type": "code",
   "execution_count": 16,
   "id": "3d3cb20e",
   "metadata": {},
   "outputs": [
    {
     "data": {
      "text/plain": [
       "country                                               0\n",
       "age dependency ratio (% of working-age population)    1\n",
       "age dependency ratio, old                             1\n",
       "age dependency ratio, young                           1\n",
       "age population, age 0, female, interpolated           1\n",
       "                                                     ..\n",
       "protein_treenuts                                      0\n",
       "protein_vegetal products                              0\n",
       "protein_vegetable oils                                0\n",
       "protein_vegetables                                    0\n",
       "protein_miscellaneous                                 0\n",
       "Length: 251, dtype: int64"
      ]
     },
     "execution_count": 16,
     "metadata": {},
     "output_type": "execute_result"
    }
   ],
   "source": [
    "df_latest.isna().sum()"
   ]
  },
  {
   "cell_type": "code",
   "execution_count": 206,
   "id": "5e49308f",
   "metadata": {},
   "outputs": [],
   "source": [
    "df=pd.read_csv(r\"C:\\Users\\MichaelTaylo_c9zoof3\\Documents\\GitHub\\IH_Berliners\\Data\\3. Full merge no nan\\full_merge_no_nan.csv\")"
   ]
  },
  {
   "cell_type": "code",
   "execution_count": 17,
   "id": "ae229f50",
   "metadata": {},
   "outputs": [],
   "source": [
    "def replace_nan_integer_with_mean(df,integers_with_nan):\n",
    "    #Fill missing numbers with the average of the column\n",
    "    for j in integers_with_nan:\n",
    "        temp_mean=np.mean(df[j])\n",
    "        df[j]=df[j].fillna(temp_mean)\n",
    "    return df\n",
    "\n",
    "def get_columns_with_nan(df):\n",
    "    # This creates a list ## integers_with_nan ## which is a list of numerical columns with blanks in them.  \n",
    "    col_list=[]\n",
    "    col_list=df.columns\n",
    "    integers_with_nan=[]\n",
    "    for i in col_list:\n",
    "        if df[i].isnull().values.any()==True:\n",
    "            if df[i].dtype!='O':\n",
    "                integers_with_nan.append(i)\n",
    "    return integers_with_nan\n",
    "\n",
    "integers_with_nan=get_columns_with_nan(df)\n",
    "#integers_with_nan=[list]\n",
    "\n",
    "\n",
    "#Replace missing numbers with mean\n",
    "df=replace_nan_integer_with_mean(df,integers_with_nan)"
   ]
  },
  {
   "cell_type": "code",
   "execution_count": 18,
   "id": "fe06fc41",
   "metadata": {},
   "outputs": [],
   "source": [
    "df.to_csv(r\"C:\\Users\\MichaelTaylo_c9zoof3\\Documents\\GitHub\\IH_Berliners\\Data\\3. Full merge no nan\\full_merge_no_nans2.csv\",index=False)"
   ]
  },
  {
   "cell_type": "code",
   "execution_count": null,
   "id": "4a126d39",
   "metadata": {},
   "outputs": [],
   "source": []
  }
 ],
 "metadata": {
  "kernelspec": {
   "display_name": "Python 3 (ipykernel)",
   "language": "python",
   "name": "python3"
  },
  "language_info": {
   "codemirror_mode": {
    "name": "ipython",
    "version": 3
   },
   "file_extension": ".py",
   "mimetype": "text/x-python",
   "name": "python",
   "nbconvert_exporter": "python",
   "pygments_lexer": "ipython3",
   "version": "3.9.12"
  },
  "toc": {
   "base_numbering": 1,
   "nav_menu": {},
   "number_sections": true,
   "sideBar": true,
   "skip_h1_title": false,
   "title_cell": "Table of Contents",
   "title_sidebar": "Contents",
   "toc_cell": false,
   "toc_position": {
    "height": "calc(100% - 180px)",
    "left": "10px",
    "top": "150px",
    "width": "341.484px"
   },
   "toc_section_display": true,
   "toc_window_display": true
  },
  "varInspector": {
   "cols": {
    "lenName": 16,
    "lenType": 16,
    "lenVar": 40
   },
   "kernels_config": {
    "python": {
     "delete_cmd_postfix": "",
     "delete_cmd_prefix": "del ",
     "library": "var_list.py",
     "varRefreshCmd": "print(var_dic_list())"
    },
    "r": {
     "delete_cmd_postfix": ") ",
     "delete_cmd_prefix": "rm(",
     "library": "var_list.r",
     "varRefreshCmd": "cat(var_dic_list()) "
    }
   },
   "types_to_exclude": [
    "module",
    "function",
    "builtin_function_or_method",
    "instance",
    "_Feature"
   ],
   "window_display": false
  }
 },
 "nbformat": 4,
 "nbformat_minor": 5
}
