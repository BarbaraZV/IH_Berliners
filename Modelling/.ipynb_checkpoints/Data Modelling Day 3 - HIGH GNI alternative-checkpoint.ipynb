{
 "cells": [
  {
   "cell_type": "code",
   "execution_count": 10,
   "id": "54e52c0d",
   "metadata": {},
   "outputs": [],
   "source": [
    "import numpy as np\n",
    "import pandas as pd\n",
    "import matplotlib.pyplot as plt\n",
    "%matplotlib inline\n",
    "import seaborn as sns\n",
    "from sklearn.preprocessing import StandardScaler\n",
    "from sklearn.preprocessing import quantile_transform\n",
    "from sklearn.preprocessing import minmax_scale\n",
    "from sklearn.preprocessing import OneHotEncoder  ##. better to use dummy from pandas \n",
    "from sklearn.preprocessing import PowerTransformer\n",
    "from scipy.stats import boxcox\n",
    "from sklearn.linear_model import LinearRegression\n",
    "from sklearn.model_selection import train_test_split\n",
    "import statsmodels.api as sm\n",
    "from scipy.stats import boxcox\n",
    "from sklearn.metrics import r2_score\n",
    "from sklearn.metrics import mean_squared_error as mse\n",
    "from sklearn.metrics import mean_absolute_error as mae\n",
    "pd.options.display.max_rows = 50\n",
    "import qgrid\n",
    "from sklearn.compose import make_column_selector as selector\n",
    "from sklearn.compose import ColumnTransformer\n",
    "import math\n"
   ]
  },
  {
   "cell_type": "markdown",
   "id": "bb7ba425",
   "metadata": {},
   "source": [
    "# User defined Functions"
   ]
  },
  {
   "cell_type": "code",
   "execution_count": 11,
   "id": "38ccb17a",
   "metadata": {},
   "outputs": [],
   "source": [
    "def top_features(model):\n",
    "    features_importance = pd.DataFrame(data={\n",
    "    'Importance': abs(model.params[1:]),\n",
    "    'Coefficient': model.params[1:], 'P-value': round(model.pvalues[1:],4)})\n",
    "    features_importance = features_importance.sort_values(by='Importance', ascending=False)\n",
    "    return features_importance\n",
    "\n",
    "def remove_outliers(df,col_list):\n",
    "    '''Removes outliers from dataframe DF using the \n",
    "    IQR * 1.5 rule.  \n",
    "    Applies only to the columns in list COL_LIST'''\n",
    "    \n",
    "    for i in col_list:\n",
    "        q1 = df[i].quantile(0.25)\n",
    "        q3 = df[i].quantile(0.75)\n",
    "\n",
    "        iqr = q3 - q1\n",
    "\n",
    "        lower_bound = q1 -(1.5 * iqr) \n",
    "        upper_bound = q3 +(1.5 * iqr)\n",
    "\n",
    "\n",
    "        df.drop(df[ (df[i] > upper_bound) | (df[i] < lower_bound) ].index , inplace=True)\n",
    "        return(df)\n",
    "\n",
    "#Get independent variable\n",
    "def create_y(df,y_name):\n",
    "    y=df[y_name]\n",
    "    return y\n",
    "\n",
    "#get dependent variable\n",
    "def create_x(df,y_name):\n",
    "    x=df.drop(labels=y_name,axis=1)\n",
    "    return x\n",
    "\n",
    "#Create train-test x,ys\n",
    "def create_train_test_data(x,y,size_val=.3):\n",
    "    x_train,x_test,y_train,y_test = train_test_split(x,y,test_size=size_val,random_state=123)\n",
    "    return x_train,x_test,y_train,y_test\n",
    "\n",
    "#Create ColumnTransformer to enable transforming of both numerical & categorical data\n",
    "def col_transformer(x): \n",
    "\n",
    "    numerical_columns_selector = selector(dtype_exclude=object)\n",
    "    categorical_columns_selector = selector(dtype_include=object)\n",
    "\n",
    "    numerical_columns = numerical_columns_selector(x)\n",
    "    categorical_columns = categorical_columns_selector(x)\n",
    "\n",
    "\n",
    "    categorical_preprocessor = OneHotEncoder(drop='first',handle_unknown=\"ignore\")\n",
    "    numerical_preprocessor = StandardScaler()\n",
    "\n",
    "\n",
    "    preprocessor = ColumnTransformer([('cat', categorical_preprocessor, categorical_columns),\n",
    "                                      ('num', numerical_preprocessor, numerical_columns)],sparse_threshold=0)\n",
    "    return preprocessor\n",
    "\n",
    "\n",
    "#Run statmodel OLS\n",
    "def sm_OLS(x_train_scaled,x_test_scaled,y_train):\n",
    "    x_train_const_scaled = sm.add_constant(x_train_scaled) # adding a constant so that formula understands y=mx+b that b<>0\n",
    "    model = sm.OLS(y_train, x_train_const_scaled).fit()\n",
    "    y_pred_train = model.predict(x_train_const_scaled) \n",
    "\n",
    "    x_test_const_scaled = sm.add_constant(x_test_scaled) # adding a constant so that formula understands y=mx+b that b<>0\n",
    "    y_pred_test = model.predict(x_test_const_scaled) \n",
    "    return model,y_pred_train,y_pred_test\n",
    "\n",
    "#Collect results for analysis\n",
    "def gather_results(model,y_pred_train,y_train):\n",
    "    m_mse=mse(y_train,y_pred_train)\n",
    "    rmse=math.sqrt(mse(y_train,y_pred_train))\n",
    "    r_mae=mae(y_train,y_pred_train)\n",
    "    r_squared=model.rsquared\n",
    "    r_squared_adj=model.rsquared_adj\n",
    "    df_data={'MSE':[round(m_mse,2)],'RMSE':[round(rmse,3)],'R-Squared':[round(r_squared,3)],'R-Squared-Adj':[round(r_squared_adj,3)]}\n",
    "    temp_df=pd.DataFrame(df_data)\n",
    "    return temp_df\n",
    "\n",
    "def remove_multicollinearity(dataset, threshold):\n",
    "    col_corr = set() # Set of all the names of deleted columns\n",
    "    corr_matrix = dataset.corr().abs()\n",
    "    for i in range(len(corr_matrix.columns)):\n",
    "        for j in range(i):\n",
    "            if (corr_matrix.iloc[i, j] >= threshold) and (corr_matrix.columns[j] not in col_corr):\n",
    "                colname = corr_matrix.columns[i] # getting the name of column\n",
    "                col_corr.add(colname)\n",
    "                if colname in dataset.columns:\n",
    "                    del dataset[colname] # deleting the column from the dataset\n",
    "    return dataset\n",
    "\n",
    "\n",
    "\n",
    "def prep_xy(df_used,y_name):\n",
    "    \n",
    "    #Prep X-Y Split\n",
    "    y=create_y(df_used,y_name)\n",
    "    x=create_x(df_used,y_name)\n",
    "\n",
    "    #Create train-test data\n",
    "    x_train,x_test,y_train,y_test=create_train_test_data(x,y)\n",
    "\n",
    "    #Create transformer to normalize data\n",
    "    transformer=col_transformer(x_train)\n",
    "\n",
    "    #Normalize/scale data\n",
    "    x_train_scaled=transformer.fit_transform(x_train)\n",
    "    x_test_scaled=transformer.transform(x_test)\n",
    "    feature_names=transformer.get_feature_names_out()\n",
    "    x_train_scaled=pd.DataFrame(data=x_train_scaled,columns=feature_names)\n",
    "    x_test_scaled=pd.DataFrame(data=x_test_scaled,columns=feature_names)\n",
    "    return x_train,y_train,x_train_scaled,x_test_scaled,y_test,x_test\n",
    "\n",
    "def run_rfe(x_train,y_train,est_n):\n",
    "    y_train=y_train.ravel()\n",
    "    from sklearn.ensemble import RandomForestRegressor\n",
    "    regressor = RandomForestRegressor(n_estimators=est_n)\n",
    "    from sklearn.feature_selection import RFE\n",
    "    # here we want only one final feature, we do this to produce a ranking\n",
    "    n_features_to_select = 10\n",
    "    rfe = RFE(regressor, n_features_to_select=n_features_to_select)\n",
    "    rfe.fit(x_train, y_train)\n",
    "\n",
    "    #===========================================================================\n",
    "    # now print out the features in order of ranking\n",
    "    #===========================================================================\n",
    "    from operator import itemgetter\n",
    "    features = x_train.columns.to_list()\n",
    "    for x, y in (sorted(zip(rfe.ranking_ , features), key=itemgetter(0))):\n",
    "        print(x, y)\n",
    "    return features,rfe.ranking_\n",
    "\n",
    "\n",
    "import statsmodels.formula.api as smf\n",
    "\n",
    "\n",
    "def forward_selected(data, response):\n",
    "    \"\"\"Linear model designed by forward selection.\n",
    "\n",
    "    Parameters:\n",
    "    -----------\n",
    "    data : pandas DataFrame with all possible predictors and response\n",
    "\n",
    "    response: string, name of response column in data\n",
    "\n",
    "    Returns:\n",
    "    --------\n",
    "    model: an \"optimal\" fitted statsmodels linear model\n",
    "           with an intercept\n",
    "           selected by forward selection\n",
    "           evaluated by adjusted R-squared\n",
    "    \"\"\"\n",
    "    remaining = set(data.columns)\n",
    "    remaining.remove(response)\n",
    "    selected = []\n",
    "    current_score, best_new_score = 0.0, 0.0\n",
    "    while remaining and current_score == best_new_score:\n",
    "        scores_with_candidates = []\n",
    "        for candidate in remaining:\n",
    "            formula = \"{} ~ {} + 1\".format(response,\n",
    "                                           ' + '.join(selected + [candidate]))\n",
    "            score = smf.ols(formula, data).fit().rsquared_adj\n",
    "            scores_with_candidates.append((score, candidate))\n",
    "        scores_with_candidates.sort()\n",
    "        best_new_score, best_candidate = scores_with_candidates.pop()\n",
    "        if current_score < best_new_score:\n",
    "            remaining.remove(best_candidate)\n",
    "            selected.append(best_candidate)\n",
    "            current_score = best_new_score\n",
    "    formula = \"{} ~ {} + 1\".format(response,\n",
    "                                   ' + '.join(selected))\n",
    "    model = smf.ols(formula, data).fit()\n",
    "    return model"
   ]
  },
  {
   "cell_type": "markdown",
   "id": "e93ec23c",
   "metadata": {},
   "source": [
    "# Read file"
   ]
  },
  {
   "cell_type": "code",
   "execution_count": 14,
   "id": "0946f61d",
   "metadata": {},
   "outputs": [],
   "source": [
    "file_path=r\"..\\Data\\nutrition_demographic_covid_continent_3 - high GNI.csv\"\n",
    "df_new=pd.read_csv(file_path)"
   ]
  },
  {
   "cell_type": "code",
   "execution_count": null,
   "id": "f69637d6",
   "metadata": {},
   "outputs": [],
   "source": [
    "df_high=df_new[df_new['gni_real'].isin([\"high_gni\"])]\n",
    "df_low=df_new[df_new['gni_real'].isin([\"low_gni\"])]"
   ]
  },
  {
   "cell_type": "markdown",
   "id": "e2cdb857",
   "metadata": {},
   "source": [
    "## Update variables"
   ]
  },
  {
   "cell_type": "code",
   "execution_count": null,
   "id": "e8fccfe8",
   "metadata": {},
   "outputs": [],
   "source": [
    "df=df_high.copy()\n",
    "est_n=200\n",
    "rfe_include=20\n",
    "rem_multi=1\n",
    "coll_value=.9\n",
    "rfe_forward=0  # 1=RFE, 0=forward selected, \n",
    "y_var_name='covid_fatality_rate'"
   ]
  },
  {
   "cell_type": "markdown",
   "id": "1a53162e",
   "metadata": {},
   "source": [
    "## Remove columns with high multicolinearity"
   ]
  },
  {
   "cell_type": "code",
   "execution_count": null,
   "id": "bd53d883",
   "metadata": {},
   "outputs": [],
   "source": [
    "#Complete the actual removal\n",
    "if rem_multi==1:\n",
    "    df=remove_multicollinearity(df,coll_value)"
   ]
  },
  {
   "cell_type": "markdown",
   "id": "54f6d715",
   "metadata": {},
   "source": [
    "# Code used per project"
   ]
  },
  {
   "cell_type": "code",
   "execution_count": null,
   "id": "9379c290",
   "metadata": {
    "run_control": {
     "marked": false
    }
   },
   "outputs": [],
   "source": [
    "df_used = df._get_numeric_data().copy()        #numbers only\n",
    "df_used.shape"
   ]
  },
  {
   "cell_type": "markdown",
   "id": "ffdcfe77",
   "metadata": {},
   "source": [
    "## Create x-y split and check initial outcomes of model"
   ]
  },
  {
   "cell_type": "markdown",
   "id": "f6157140",
   "metadata": {},
   "source": [
    "# Forward selection method"
   ]
  },
  {
   "cell_type": "code",
   "execution_count": null,
   "id": "19a36190",
   "metadata": {
    "run_control": {
     "marked": false
    }
   },
   "outputs": [],
   "source": [
    "if rfe_forward==0:\n",
    "    model=forward_selected(df_used,y_var_name)\n",
    "    create_params=model.params\n",
    "    short_params=list(create_params.index[1:])\n",
    "    short_params"
   ]
  },
  {
   "cell_type": "code",
   "execution_count": null,
   "id": "115d19b1",
   "metadata": {
    "run_control": {
     "marked": false
    }
   },
   "outputs": [],
   "source": [
    "y_name=y_var_name\n",
    "x_train,y_train,x_train_scaled,x_test_scaled,y_test,x_test=prep_xy(df_used,y_name)"
   ]
  },
  {
   "cell_type": "markdown",
   "id": "c613d0e9",
   "metadata": {},
   "source": [
    "# Conduct RFE"
   ]
  },
  {
   "cell_type": "code",
   "execution_count": null,
   "id": "57fa3d56",
   "metadata": {},
   "outputs": [],
   "source": [
    "#est_n=350\n",
    "if rfe_forward==1:\n",
    "    features,scores=run_rfe(x_train,y_train,est_n)"
   ]
  },
  {
   "cell_type": "markdown",
   "id": "4b8a6af0",
   "metadata": {},
   "source": [
    "# Re-run code using RFE results"
   ]
  },
  {
   "cell_type": "code",
   "execution_count": null,
   "id": "1e40adee",
   "metadata": {
    "run_control": {
     "marked": false
    }
   },
   "outputs": [],
   "source": [
    "col_list=[]\n",
    "#rfe_include=30\n",
    "if rfe_forward==1:\n",
    "    for i in features[0:rfe_include]:\n",
    "        col_list.append(i)\n",
    "else:\n",
    "    col_list=short_params\n",
    "\n",
    "col_list.append(y_var_name)\n",
    "df_used=df[col_list].copy()\n",
    "df_used.shape"
   ]
  },
  {
   "cell_type": "code",
   "execution_count": null,
   "id": "52459e4d",
   "metadata": {},
   "outputs": [],
   "source": [
    "keep_going=True\n",
    "\n",
    "while keep_going==True:\n",
    "    y_name=y_var_name\n",
    "    x_train,y_train,x_train_scaled,x_test_scaled,y_test,x_test=prep_xy(df_used,y_name)    \n",
    "    #Create OLS model using statsmodel\n",
    "    y_train=y_train.values.reshape(-1,1)\n",
    "    model,y_pred_train,y_pred_test=sm_OLS(x_train_scaled,x_test_scaled,y_train)\n",
    "\n",
    "    #Gather results of the OLS\n",
    "    #y_pred_test=y_pred_test.values.reshape(-1,1)\n",
    "    results_model=gather_results(model,y_pred_train,y_train)\n",
    "    print(results_model)\n",
    "    \n",
    "    #remove stepwise feature.  if done is written, stop removing\n",
    "    features_importance=top_features(model)\n",
    "    temp_features=features_importance.sort_values(by='P-value', ascending=False)\n",
    "    worst_feature=temp_features.iloc[0,:]\n",
    "    print(worst_feature)\n",
    "    worst_feature=str(worst_feature.name)\n",
    "    if temp_features.iloc[0,2]<=.05:\n",
    "        keep_going=False\n",
    "    else:\n",
    "        stp=r'num_'\n",
    "        worst_feature=worst_feature.strip('num').strip('_')\n",
    "        df_used.drop(labels=worst_feature,axis=1,inplace=True)\n",
    "        df_used.columns"
   ]
  },
  {
   "cell_type": "markdown",
   "id": "3ee9c7fd",
   "metadata": {},
   "source": [
    "# Model results post process"
   ]
  },
  {
   "cell_type": "code",
   "execution_count": null,
   "id": "c0b0f66b",
   "metadata": {},
   "outputs": [],
   "source": []
  },
  {
   "cell_type": "code",
   "execution_count": null,
   "id": "302e82c8",
   "metadata": {},
   "outputs": [],
   "source": [
    "model.summary()"
   ]
  },
  {
   "cell_type": "code",
   "execution_count": null,
   "id": "fd3fbf65",
   "metadata": {},
   "outputs": [],
   "source": [
    "# Make an scatter plot y_pred vs y. Should be close to a straight line\n",
    "fig, ax = plt.subplots(1,3,figsize=(14,4))\n",
    "ax[0].plot(y_pred_test, y_test, 'o')\n",
    "ax[0].set_xlabel(\"y_test\")\n",
    "ax[0].set_ylabel(\"y_pred\")\n",
    "ax[0].set_title(\"Test Set -Predicted vs real\")\n",
    "# Get a histogram of the residuals ie: y - y_pred.  Homoscdasticity\n",
    "# It resembles a normal distribution?\n",
    "y_test.reset_index(drop=True,inplace=True)\n",
    "ax[1].hist(y_test - y_pred_test)\n",
    "ax[1].set_xlabel(\"Test y-y_pred_test\")\n",
    "ax[1].set_title(\"Test Set Residual histogram\")\n",
    "ax[2].plot(y_pred_test,y_test - y_pred_test,\"o\")\n",
    "ax[2].set_xlabel(\"predicted\")\n",
    "ax[2].set_ylabel(\"residuals\")\n",
    "ax[2].set_title(\"Residuals by Predicted\")\n",
    "ax[2].plot(y_pred_test,np.zeros(len(y_pred_test)),linestyle='dashed')\n"
   ]
  },
  {
   "cell_type": "code",
   "execution_count": null,
   "id": "1986b8b4",
   "metadata": {},
   "outputs": [],
   "source": [
    "result=pd.DataFrame({\"y_test\":y_test,\"y_pred_test\":y_pred_test})\n",
    "\n",
    "sns.regplot(x='y_pred_test',y='y_test', data=result, scatter_kws={\"color\": \"red\"}, line_kws={\"color\": \"black\"})"
   ]
  },
  {
   "cell_type": "markdown",
   "id": "b4c691ba",
   "metadata": {},
   "source": [
    "# SHAPLEY DATA"
   ]
  },
  {
   "cell_type": "code",
   "execution_count": null,
   "id": "29388fe6",
   "metadata": {},
   "outputs": [],
   "source": [
    "y_train=y_train.ravel()"
   ]
  },
  {
   "cell_type": "code",
   "execution_count": null,
   "id": "76bcc7b7",
   "metadata": {},
   "outputs": [],
   "source": [
    "from sklearn.ensemble import RandomForestRegressor\n",
    "model=RandomForestRegressor(max_depth=6, random_state=0, n_estimators=10)\n",
    "\n",
    "model.fit(x_train_scaled, y_train)\n",
    "\n",
    "y_pred_test=model.predict(x_test_scaled)\n"
   ]
  },
  {
   "cell_type": "code",
   "execution_count": null,
   "id": "db94b00f",
   "metadata": {},
   "outputs": [],
   "source": [
    "model.fit(x_train, y_train)\n",
    "y_pred = model.predict(x_test)\n",
    "# import shap library\n",
    "import shap\n",
    "\n",
    "# explain the model's predictions using SHAP\n",
    "explainer = shap.TreeExplainer(model)\n",
    "shap_values = explainer.shap_values(x_train)\n",
    "\n",
    "# visualize the first prediction's explanation \n",
    "shap.initjs()\n",
    "shap.force_plot(explainer.expected_value, shap_values[0,:], x_train.iloc[0,:])"
   ]
  },
  {
   "cell_type": "code",
   "execution_count": null,
   "id": "ccfa3a2d",
   "metadata": {},
   "outputs": [],
   "source": [
    "shap.force_plot(explainer.expected_value, shap_values, x_train)"
   ]
  },
  {
   "cell_type": "code",
   "execution_count": null,
   "id": "fc43d46c",
   "metadata": {},
   "outputs": [],
   "source": [
    "shap_values = shap.TreeExplainer(model).shap_values(x_train)\n",
    "shap.summary_plot(shap_values, x_train, plot_type=\"bar\")"
   ]
  },
  {
   "cell_type": "code",
   "execution_count": null,
   "id": "f2ffae0a",
   "metadata": {
    "scrolled": true
   },
   "outputs": [],
   "source": [
    "shap.summary_plot(shap_values, x_train)"
   ]
  },
  {
   "cell_type": "code",
   "execution_count": null,
   "id": "e823faaf",
   "metadata": {},
   "outputs": [],
   "source": []
  },
  {
   "cell_type": "code",
   "execution_count": null,
   "id": "3741d9dd",
   "metadata": {},
   "outputs": [],
   "source": []
  }
 ],
 "metadata": {
  "kernelspec": {
   "display_name": "Python 3 (ipykernel)",
   "language": "python",
   "name": "python3"
  },
  "language_info": {
   "codemirror_mode": {
    "name": "ipython",
    "version": 3
   },
   "file_extension": ".py",
   "mimetype": "text/x-python",
   "name": "python",
   "nbconvert_exporter": "python",
   "pygments_lexer": "ipython3",
   "version": "3.9.12"
  },
  "toc": {
   "base_numbering": 1,
   "nav_menu": {},
   "number_sections": true,
   "sideBar": true,
   "skip_h1_title": false,
   "title_cell": "Table of Contents",
   "title_sidebar": "Contents",
   "toc_cell": false,
   "toc_position": {
    "height": "calc(100% - 180px)",
    "left": "10px",
    "top": "150px",
    "width": "383.872px"
   },
   "toc_section_display": true,
   "toc_window_display": true
  },
  "varInspector": {
   "cols": {
    "lenName": 16,
    "lenType": 16,
    "lenVar": 40
   },
   "kernels_config": {
    "python": {
     "delete_cmd_postfix": "",
     "delete_cmd_prefix": "del ",
     "library": "var_list.py",
     "varRefreshCmd": "print(var_dic_list())"
    },
    "r": {
     "delete_cmd_postfix": ") ",
     "delete_cmd_prefix": "rm(",
     "library": "var_list.r",
     "varRefreshCmd": "cat(var_dic_list()) "
    }
   },
   "position": {
    "height": "408.854px",
    "left": "1123.77px",
    "right": "20px",
    "top": "166.99px",
    "width": "350px"
   },
   "types_to_exclude": [
    "module",
    "function",
    "builtin_function_or_method",
    "instance",
    "_Feature"
   ],
   "window_display": false
  }
 },
 "nbformat": 4,
 "nbformat_minor": 5
}
